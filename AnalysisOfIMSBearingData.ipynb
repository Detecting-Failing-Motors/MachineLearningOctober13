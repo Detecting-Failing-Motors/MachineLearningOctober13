{
 "cells": [
  {
   "cell_type": "code",
   "execution_count": 1,
   "metadata": {},
   "outputs": [],
   "source": [
    "import os\n",
    "import pandas as pd\n",
    "from datetime import datetime\n",
    "import matplotlib.pyplot as plt\n",
    "import numpy as np \n",
    "from scipy.signal import welch\n",
    "from detect_peaks import detect_peaks\n",
    "from scipy.stats import kurtosis\n",
    "from scipy.stats import skew\n",
    "from scipy.stats import entropy #seems non beneficial\n",
    "from scipy.signal import hilbert"
   ]
  },
  {
   "cell_type": "code",
   "execution_count": 2,
   "metadata": {},
   "outputs": [],
   "source": [
    "#Import Machine Learning Libraries\n",
    "from pandas.plotting import scatter_matrix\n",
    "from sklearn import model_selection\n",
    "from sklearn.metrics import classification_report\n",
    "from sklearn.metrics import confusion_matrix\n",
    "from sklearn.metrics import accuracy_score\n",
    "from sklearn.linear_model import LogisticRegression\n",
    "from sklearn.tree import DecisionTreeClassifier\n",
    "from sklearn.neighbors import KNeighborsClassifier\n",
    "from sklearn.discriminant_analysis import LinearDiscriminantAnalysis\n",
    "from sklearn.naive_bayes import GaussianNB\n",
    "from sklearn.svm import SVC\n",
    "from sklearn.ensemble import RandomForestClassifier"
   ]
  },
  {
   "cell_type": "code",
   "execution_count": 3,
   "metadata": {},
   "outputs": [],
   "source": [
    "\"\"\"\n",
    "Begin function declarations\n",
    "\"\"\"\n",
    "def BearingInfomation(n,N,Bd,Pd,phi):\n",
    "    xx = Bd/Pd*np.cos(phi)\n",
    "    BPFI = (N/2)*(1 + xx)*n\n",
    "    BPFO = (N/2)*(1 - xx)*n\n",
    "    BSF = (Pd/(2*Bd))*(1-(xx)**2)*n\n",
    "    FTF= (1/2)*(1 - xx)*n\n",
    "    x = {\n",
    "        \"BPFI\": BPFI,\n",
    "        \"BPFO\": BPFO,\n",
    "        \"BSF\":  BSF,\n",
    "        \"FTF\":  FTF\n",
    "    }\n",
    "    return x"
   ]
  },
  {
   "cell_type": "code",
   "execution_count": 4,
   "metadata": {},
   "outputs": [],
   "source": [
    "def RemoveDCOffset(sig):\n",
    "    m = sig - np.mean(sig)\n",
    "    return m"
   ]
  },
  {
   "cell_type": "code",
   "execution_count": 5,
   "metadata": {},
   "outputs": [],
   "source": [
    "def FourierTransform(comb_sig, T, N, f_s):\n",
    "    #Fast Fourier Transform\n",
    "    #number_of_time_samples = len(t)\n",
    "    number_of_time_samples = N\n",
    "    frq = np.arange(number_of_time_samples)/(Tmax)# two sides frequency range\n",
    "    frq = frq[range(int(number_of_time_samples/(2)))] # one side frequency range\n",
    "    Y = abs(np.fft.fft(comb_sig))/number_of_time_samples # fft computing and normalization\n",
    "    Y = Y[range(int(number_of_time_samples/2))]\n",
    "    #End fft\n",
    "    x = {\n",
    "        \"Frequency\":frq,\n",
    "        \"Freq. Amp.\": Y\n",
    "        }\n",
    "    return x"
   ]
  },
  {
   "cell_type": "code",
   "execution_count": 6,
   "metadata": {},
   "outputs": [],
   "source": [
    "def get_psd_values(comb_sig, T, N, fs):\n",
    "    frq, psd_values = welch(comb_sig, fs=fs)\n",
    "    x = {\n",
    "        \"Frequency\":frq,\n",
    "        \"PSD\": psd_values\n",
    "        }\n",
    "    return x"
   ]
  },
  {
   "cell_type": "code",
   "execution_count": 7,
   "metadata": {},
   "outputs": [],
   "source": [
    "def autocorr(x):\n",
    "    result = np.correlate(x, x, mode='full')\n",
    "    return result[len(result)//2:]\n",
    " \n",
    "def get_autocorr_values(comb_sig, T, N, f_s):\n",
    "    autocorr_values = autocorr(comb_sig)\n",
    "    x_values = np.array([T * jj for jj in range(0, N)])\n",
    "    x = {\n",
    "        \"X Values\":x_values,\n",
    "        \"Autocorr Values\": autocorr_values\n",
    "        }\n",
    "    return x"
   ]
  },
  {
   "cell_type": "code",
   "execution_count": 8,
   "metadata": {},
   "outputs": [],
   "source": [
    "def TimeDomainInformation(comb_sig, T, N, f_s):\n",
    "    x = {\n",
    "        \"RMS\": np.mean(comb_sig**2),\n",
    "        \"STD\": np.std(comb_sig),\n",
    "        \"Mean\": np.mean(comb_sig),\n",
    "        \"Max\": np.max(comb_sig),\n",
    "        \"Min\": np.min(comb_sig),\n",
    "        \"Peak-to-Peak\": (np.max(comb_sig) - np.min(comb_sig)),\n",
    "        \"Max ABS\": np.max(abs(comb_sig)),\n",
    "        \"Kurtosis\": kurtosis(comb_sig),\n",
    "        \"Skew\": skew(comb_sig),\n",
    "    }\n",
    "\n",
    "    return x"
   ]
  },
  {
   "cell_type": "code",
   "execution_count": 9,
   "metadata": {},
   "outputs": [],
   "source": [
    "def GetSortedPeak(frq,comb_sig, T, N, f_s):\n",
    "    max_peak_height = 0.1 * np.nanmax(comb_sig)\n",
    "    threshold = 0.05 * np.nanmax(comb_sig)\n",
    "    #Get indices of peak\n",
    "    peak = detect_peaks(comb_sig,edge = 'rising',mph = max_peak_height, mpd = 2, threshold = threshold )\n",
    "    \n",
    "    m = []\n",
    "    mm = []\n",
    "    for i in peak:\n",
    "        m.append(comb_sig[i]) \n",
    "        mm.append(frq[i])\n",
    "\n",
    "    mmm = np.argsort(m)\n",
    "    n = []\n",
    "    nn = []\n",
    "    for i in mmm:\n",
    "        n.append(m[i])\n",
    "        nn.append(mm[i])\n",
    "\n",
    "    n  = n[::-1]\n",
    "    nn = nn[::-1]\n",
    "\n",
    "    return n, nn"
   ]
  },
  {
   "cell_type": "code",
   "execution_count": 10,
   "metadata": {},
   "outputs": [],
   "source": [
    "def FrequencyDomainInformation(comb_sig, T, N, f_s):\n",
    "    x1 = FourierTransform(comb_sig, T, N, f_s)\n",
    "    x2 = get_psd_values(comb_sig, T, N, f_s)\n",
    "    x3 = get_autocorr_values(comb_sig, T, N, f_s)\n",
    "    FTamp,FTfreq = GetSortedPeak(x1['Frequency'],x1['Freq. Amp.'], T, N, f_s)\n",
    "    PSDamp,PSDfreq = GetSortedPeak(x2['Frequency'],x2['PSD'], T, N, f_s)\n",
    "    Cor,CorTime = GetSortedPeak(x3['X Values'],x3['Autocorr Values'], T, N, f_s)\n",
    "    \n",
    "    while len(FTamp) <= 5:\n",
    "        FTamp.append(['-999'])\n",
    "    while len(FTfreq) <= 5:\n",
    "        FTfreq.append(['-999'])\n",
    "    while len(PSDamp) <= 5:\n",
    "        PSDamp.append(['-999'])\n",
    "    while len(PSDfreq) <= 5:\n",
    "        PSDfreq.append(['-999'])\n",
    "    while len(Cor) <= 5:\n",
    "        Cor.append(['-999'])\n",
    "    while len(CorTime) <= 5:\n",
    "        CorTime.append(['-999'])\n",
    "    \n",
    "    x = {\n",
    "        \"FFT Frq @ Peak 1\": FTfreq[0],\n",
    "        \"FFT Frq @ Peak 2\": FTfreq[1],\n",
    "        \"FFT Frq @ Peak 3\": FTfreq[2],\n",
    "        \"FFT Frq @ Peak 4\": FTfreq[3],\n",
    "        \"FFT Frq @ Peak 5\": FTfreq[4],\n",
    "        \"FFT Amp @ Peak 1\": FTamp[0],\n",
    "        \"FFT Amp @ Peak 2\": FTamp[1],\n",
    "        \"FFT Amp @ Peak 3\": FTamp[2],\n",
    "        \"FFT Amp @ Peak 4\": FTamp[3],\n",
    "        \"FFT Amp @ Peak 5\": FTamp[4],\n",
    "        \"PSD Frq @ Peak 1\": PSDfreq[0],\n",
    "        \"PSD Frq @ Peak 2\": PSDfreq[1],\n",
    "        \"PSD Frq @ Peak 3\": PSDfreq[2],\n",
    "        \"PSD Frq @ Peak 4\": PSDfreq[3],\n",
    "        \"PSD Frq @ Peak 5\": PSDfreq[4],\n",
    "        \"PSD Amp @ Peak 1\": PSDamp[0],\n",
    "        \"PSD Amp @ Peak 2\": PSDamp[1],\n",
    "        \"PSD Amp @ Peak 3\": PSDamp[2],\n",
    "        \"PSD Amp @ Peak 4\": PSDamp[3],\n",
    "        \"PSD Amp @ Peak 5\": PSDamp[4],\n",
    "        \"Autocorrelate Time @ Peak 1\": CorTime[0],\n",
    "        \"Autocorrelate Time @ Peak 2\": CorTime[1],\n",
    "        \"Autocorrelate Time @ Peak 3\": CorTime[2],\n",
    "        \"Autocorrelate Time @ Peak 4\": CorTime[3],\n",
    "        \"Autocorrelate Time @ Peak 5\": CorTime[4],\n",
    "        \"Autocorrelate @ Peak 1\": Cor[0],\n",
    "        \"Autocorrelate @ Peak 2\": Cor[1],\n",
    "        \"Autocorrelate @ Peak 3\": Cor[2],\n",
    "        \"Autocorrelate @ Peak 4\": Cor[3],\n",
    "        \"Autocorrelate @ Peak 5\": Cor[4]\n",
    "    }\n",
    "    return x"
   ]
  },
  {
   "cell_type": "code",
   "execution_count": 11,
   "metadata": {},
   "outputs": [],
   "source": [
    "def getAbsoluteTime(file):\n",
    "    year   = int(file[0:4])\n",
    "    month  = int(file[5:7])\n",
    "    day    = int(file[8:10])\n",
    "    hour   = int(file[11:13])\n",
    "    minute = int(file[14:16])\n",
    "    second = int(file[17:19])\n",
    "    x = second + 60*minute + 60*60*hour + 24*60*60*day + 31*24*60*60*(month - 10)\n",
    "    return x"
   ]
  },
  {
   "cell_type": "code",
   "execution_count": 12,
   "metadata": {},
   "outputs": [],
   "source": [
    "\"\"\"\n",
    "http://mkalikatzarakis.eu/wp-content/uploads/2018/12/IMS_dset.html\n",
    "Previous work done on this dataset states that seven different states of health were observed:\n",
    "\n",
    "Early (initial run-in of the bearings)\n",
    "Normal\n",
    "Suspect (the health seems to be deteriorating)\n",
    "Imminent failure (for bearings 1 and 2, which didn’t actually fail, but were severely worn out)\n",
    "Inner race failure (bearing 3)\n",
    "Rolling element failure (bearing 4)\n",
    "Stage 2 failure (bearing 4)\n",
    "For the first test (the one we are working on), the following labels have been proposed per file:\n",
    "\n",
    "Bearing 1\n",
    "early: 2003.10.22.12.06.24 - 2013.10.23.09.14.13\n",
    "suspect: 2013.10.23.09.24.13 - 2003.11.08.12.11.44 (bearing 1 was in suspicious health from the beginning, but showed some self-healing effects)\n",
    "normal: 2003.11.08.12.21.44 - 2003.11.19.21.06.07\n",
    "suspect: 2003.11.19.21.16.07 - 2003.11.24.20.47.32\n",
    "imminent failure: 2003.11.24.20.57.32 - 2003.11.25.23.39.56\n",
    "\n",
    "Bearing 2\n",
    "early: 2003.10.22.12.06.24 - 2003.11.01.21.41.44\n",
    "normal: 2003.11.01.21.51.44 - 2003.11.24.01.01.24\n",
    "suspect: 2003.11.24.01.11.24 - 2003.11.25.10.47.32\n",
    "imminent failure: 2003.11.25.10.57.32 - 2003.11.25.23.39.56\n",
    "\n",
    "Bearing 3\n",
    "early: 2003.10.22.12.06.24 - 2003.11.01.21.41.44\n",
    "normal: 2003.11.01.21.51.44 - 2003.11.22.09.16.56\n",
    "suspect: 2003.11.22.09.26.56 - 2003.11.25.10.47.32\n",
    "Inner race failure: 2003.11.25.10.57.32 - 2003.11.25.23.39.56\n",
    "\n",
    "Bearing 4\n",
    "early: 2003.10.22.12.06.24 - 2003.10.29.21.39.46\n",
    "normal: 2003.10.29.21.49.46 - 2003.11.15.05.08.46\n",
    "suspect: 2003.11.15.05.18.46 - 2003.11.18.19.12.30\n",
    "Rolling element failure: 2003.11.19.09.06.09 - 2003.11.22.17.36.56\n",
    "Stage 2 failure: 2003.11.22.17.46.56 - 2003.11.25.23.39.56\n",
    "\"\"\"\n",
    "\n",
    "def StateInformation(comb_sig, T, N, f_s,file,BearingNum):\n",
    "    \n",
    "    absolutetime = getAbsoluteTime(file)\n",
    "    #in seconds don't include years taking 10 as the start month\n",
    "    \n",
    "    #Bearing 1 transitions\n",
    "    b1e2s  = getAbsoluteTime(\"2013.10.23.09.14.13\")\n",
    "    b1s2n  = getAbsoluteTime(\"2003.11.08.12.11.44\")\n",
    "    b1n2s  = getAbsoluteTime(\"2003.11.19.21.06.07\")\n",
    "    b1s2i  = getAbsoluteTime(\"2003.11.24.20.47.32\")\n",
    "    \n",
    "    #Bearing 2 transitions\n",
    "    b2e2n  = getAbsoluteTime(\"2003.11.01.21.41.44\")\n",
    "    b2n2s  = getAbsoluteTime(\"2003.11.24.01.01.24\")\n",
    "    b2s2i  = getAbsoluteTime(\"2003.11.25.10.47.32\")\n",
    "    \n",
    "    #Bearing 3 transitions\n",
    "    b3e2n  = getAbsoluteTime(\"2003.11.01.21.41.44\")\n",
    "    b3n2s  = getAbsoluteTime(\"2003.11.22.09.16.56\")\n",
    "    b3s2irf  = getAbsoluteTime(\"2003.11.25.10.47.32\")\n",
    "    \n",
    "    #Bearing 4 transitions\n",
    "    b4e2n  = getAbsoluteTime(\"2003.10.29.21.39.46\")\n",
    "    b4n2s  = getAbsoluteTime(\"2003.11.15.05.08.46\")\n",
    "    b4s2r  = getAbsoluteTime(\"2003.11.18.19.12.30\")\n",
    "    b4r2f  = getAbsoluteTime(\"2003.11.22.17.36.56\")\n",
    "    \n",
    "    m = \"ERROR\"\n",
    "    if BearingNum == 1:\n",
    "        if absolutetime   <= b1e2s:\n",
    "            m = \"Early\"\n",
    "        elif absolutetime <= b1s2n:\n",
    "            m = \"Suspect\"\n",
    "        elif absolutetime <= b1n2s:\n",
    "            m = \"Normal\"\n",
    "        elif absolutetime <= b1s2i:\n",
    "            m = \"Suspect\"\n",
    "        elif absolutetime > b1s2i:\n",
    "            m = \"Imminent Failure\"\n",
    "    elif BearingNum == 2:\n",
    "        if absolutetime   <= b2e2n:\n",
    "            m = \"Early\"\n",
    "        elif absolutetime <= b2n2s:\n",
    "            m = \"Normal\"\n",
    "        elif absolutetime <= b2s2i:\n",
    "            m = \"Suspect\"\n",
    "        elif absolutetime > b2s2i:\n",
    "            m = \"Imminent Failure\" \n",
    "    elif BearingNum == 3:\n",
    "        if absolutetime   <= b3e2n:\n",
    "            m = \"Early\"\n",
    "        elif absolutetime <= b3n2s:\n",
    "            m = \"Normal\"\n",
    "        elif absolutetime <= b3s2irf:\n",
    "            m = \"Suspect\"\n",
    "        elif absolutetime >= b3s2irf:\n",
    "            m = \"Inner Race Failure\"   \n",
    "    elif BearingNum == 4:\n",
    "        if absolutetime   <= b4e2n:\n",
    "            m = \"Early\"\n",
    "        elif absolutetime <= b4n2s:\n",
    "            m = \"Normal\"\n",
    "        elif absolutetime <= b4s2r:\n",
    "            m = \"Suspect\"\n",
    "        elif absolutetime <= b4r2f:\n",
    "            m = \"Rolling Element Failure\"\n",
    "        elif absolutetime > b4r2f:\n",
    "            m = \"Stage 2 Failure\"\n",
    "    else:\n",
    "        m = \"ERROR\"\n",
    "        \n",
    "    x = {\n",
    "        \"State\": m\n",
    "    }\n",
    "    return x"
   ]
  },
  {
   "cell_type": "code",
   "execution_count": 13,
   "metadata": {},
   "outputs": [],
   "source": [
    "#Bearing 1 transitions\n",
    "b1e2s  = getAbsoluteTime(\"2013.10.23.09.14.13\")\n",
    "b1s2n  = getAbsoluteTime(\"2003.11.08.12.11.44\")\n",
    "b1n2s  = getAbsoluteTime(\"2003.11.19.21.06.07\")\n",
    "b1s2i  = getAbsoluteTime(\"2003.11.24.20.47.32\")\n",
    "\n",
    "#Bearing 2 transitions\n",
    "b2e2n  = getAbsoluteTime(\"2003.11.01.21.41.44\")\n",
    "b2n2s  = getAbsoluteTime(\"2003.11.24.01.01.24\")\n",
    "b2s2i  = getAbsoluteTime(\"2003.11.25.10.47.32\")\n",
    "\n",
    "#Bearing 3 transitions\n",
    "b3e2n  = getAbsoluteTime(\"2003.11.01.21.41.44\")\n",
    "b3n2s  = getAbsoluteTime(\"2003.11.22.09.16.56\")\n",
    "b3s2irf  = getAbsoluteTime(\"2003.11.25.10.47.32\")\n",
    "\n",
    "#Bearing 4 transitions\n",
    "b4e2n  = getAbsoluteTime(\"2003.10.29.21.39.46\")\n",
    "b4n2s  = getAbsoluteTime(\"2003.11.15.05.08.46\")\n",
    "b4s2r  = getAbsoluteTime(\"2003.11.18.19.12.30\")\n",
    "b4r2f  = getAbsoluteTime(\"2003.11.22.17.36.56\")"
   ]
  },
  {
   "cell_type": "code",
   "execution_count": 14,
   "metadata": {},
   "outputs": [],
   "source": [
    "def MotorInformation(comb_sig, T, N, f_s):\n",
    "    x = {\n",
    "        \"Motor Type AC(1)-DC(0)\": 1,\n",
    "        \"Shaft Speed [Hz]\": 2000/60\n",
    "    }\n",
    "    return x"
   ]
  },
  {
   "cell_type": "code",
   "execution_count": 15,
   "metadata": {},
   "outputs": [],
   "source": [
    "def getCompleteDataFrame(sig,Tmax,NumberOfSamples,SampleFrequency,n,N,Bd,Pd,phi,file,BearingNum):\n",
    "    sig = RemoveDCOffset(sig)\n",
    "    BearingInfo = BearingInfomation(n,N,Bd,Pd,phi)\n",
    "    TimeDomainInfo = TimeDomainInformation(sig,Tmax,NumberOfSamples,SampleFrequency)\n",
    "    FrequecyDomainInfo = FrequencyDomainInformation(sig,Tmax,NumberOfSamples,SampleFrequency)\n",
    "    StateInfo = StateInformation(sig,Tmax,NumberOfSamples,SampleFrequency,file,BearingNum)\n",
    "    MotorInfo = MotorInformation(sig,Tmax,NumberOfSamples,SampleFrequency)\n",
    "    Features = {**StateInfo,**MotorInfo,**BearingInfo,**TimeDomainInfo,**FrequecyDomainInfo}\n",
    "    Features = pd.DataFrame(Features, index=[0])\n",
    "    return Features  "
   ]
  },
  {
   "cell_type": "code",
   "execution_count": 16,
   "metadata": {},
   "outputs": [],
   "source": [
    "def getPlot(X,Y,xlabel,ylabel,Title):\n",
    "    fig = plt.figure()\n",
    "    plt.plot(X,Y,'r')\n",
    "    plt.xlabel(ylabel)\n",
    "    plt.ylabel(ylabel)\n",
    "    plt.title(Title)\n",
    "    plt.grid(True)\n",
    "    return fig"
   ]
  },
  {
   "cell_type": "code",
   "execution_count": 17,
   "metadata": {},
   "outputs": [
    {
     "data": {
      "text/plain": [
       "'\\nEND of Function Declaration\\nBegin Extracting Data\\n'"
      ]
     },
     "execution_count": 17,
     "metadata": {},
     "output_type": "execute_result"
    }
   ],
   "source": [
    "\"\"\"\n",
    "END of Function Declaration\n",
    "Begin Extracting Data\n",
    "\"\"\""
   ]
  },
  {
   "cell_type": "code",
   "execution_count": 18,
   "metadata": {},
   "outputs": [
    {
     "name": "stdout",
     "output_type": "stream",
     "text": [
      "/Users/tbryan/Desktop/9 2019 Fall/ECEN 403/Programming/Programs_October13\n",
      "2003.10.22.12.06.24\n"
     ]
    }
   ],
   "source": [
    "HomeDirectory = \"/Users/tbryan/Desktop/9 2019 Fall/ECEN 403/Programming/Programs_October13\"\n",
    "os.chdir(HomeDirectory)\n",
    "print(os.getcwd())\n",
    "os.chdir('Data')\n",
    "os.chdir('IMS')\n",
    "directory = sorted(os.listdir('1st_test'))\n",
    "directory.remove(\".DS_Store\")\n",
    "os.chdir('1st_test')\n",
    "print(directory[0])"
   ]
  },
  {
   "cell_type": "code",
   "execution_count": 19,
   "metadata": {},
   "outputs": [
    {
     "name": "stdout",
     "output_type": "stream",
     "text": [
      "     b1x    b1y    b2x    b2y    b3x    b3y    b4x    b4y\n",
      "0 -0.022 -0.039 -0.183 -0.054 -0.105 -0.134 -0.129 -0.142\n",
      "1 -0.105 -0.017 -0.164 -0.183 -0.049  0.029 -0.115 -0.122\n",
      "2 -0.183 -0.098 -0.195 -0.125 -0.005 -0.007 -0.171 -0.071\n",
      "3 -0.178 -0.161 -0.159 -0.178 -0.100 -0.115 -0.112 -0.078\n",
      "4 -0.208 -0.129 -0.261 -0.098 -0.151 -0.205 -0.063 -0.066\n"
     ]
    }
   ],
   "source": [
    "data = pd.read_table(directory[0],header = None)\n",
    "data.columns = ['b1x','b1y','b2x','b2y','b3x','b3y','b4x','b4y']\n",
    "print(data.head())"
   ]
  },
  {
   "cell_type": "code",
   "execution_count": 20,
   "metadata": {},
   "outputs": [
    {
     "name": "stdout",
     "output_type": "stream",
     "text": [
      "[    0     1     2 ... 20477 20478 20479]\n"
     ]
    }
   ],
   "source": [
    "b1x = np.transpose(data.values[:,0])\n",
    "b1y = np.transpose(data.values[:,1])\n",
    "b2x = np.transpose(data.values[:,2])\n",
    "b2y = np.transpose(data.values[:,3])\n",
    "b3x = np.transpose(data.values[:,4])\n",
    "b3y = np.transpose(data.values[:,5])\n",
    "b4x = np.transpose(data.values[:,6])\n",
    "b4y = np.transpose(data.values[:,7])\n",
    "x = data.index.values\n",
    "print(x)"
   ]
  },
  {
   "cell_type": "code",
   "execution_count": 21,
   "metadata": {},
   "outputs": [],
   "source": [
    "\"\"\"\n",
    "n: Shaft rotational speed [Hz] 2000 rpm\n",
    "N: No. of rolling elements [-] 16\n",
    "Bd: Diameter of a rolling element [mm] 0.331 in\n",
    "Pd: Pitch diameter [mm] 2.815 in\n",
    "ϕ: Contact angle [rad] 15.17*pi/180\n",
    "\"\"\"\n",
    "\n",
    "\"\"\"\n",
    "The fundamental parameters are a constant for IMS Dataset\n",
    "\"\"\"\n",
    "n = 2000 / 60\n",
    "N = 16\n",
    "Bd = 0.331*254\n",
    "Pd = 2.815*254\n",
    "phi = 15.17 * np.pi / 180\n",
    "\n",
    "\"\"\"\n",
    "The sampling parameters were also a constant for the IMS Dataset\n",
    "\n",
    "Going forward we will not give the user's flexibility as to the run time\n",
    "i.e. we determine the frequency resolution\n",
    "i.e. we don't want to make the file size to long\n",
    "\n",
    "\"\"\"\n",
    "SampleFrequency = 20000\n",
    "NumberOfSamples = len(data.index.values)\n",
    "dt = 1/SampleFrequency\n",
    "Tmax = dt*NumberOfSamples\n",
    "t = np.arange(0,Tmax,dt) #same as x*dt\n"
   ]
  },
  {
   "cell_type": "code",
   "execution_count": 22,
   "metadata": {},
   "outputs": [
    {
     "name": "stdout",
     "output_type": "stream",
     "text": [
      "2003.10.22.12.06.24\n",
      "2003 10 22 12 6 24\n"
     ]
    }
   ],
   "source": [
    "'''\n",
    "This cell is testing purposes\n",
    "'''\n",
    "\n",
    "TEST = getCompleteDataFrame(b1x,Tmax,NumberOfSamples,SampleFrequency,n,N,Bd,Pd,phi,directory[0],1)\n",
    "\n",
    "year   = int(directory[0][0:4])\n",
    "month  = int(directory[0][5:7])\n",
    "day    = int(directory[0][8:10])\n",
    "hour   = int(directory[0][11:13])\n",
    "minute = int(directory[0][14:16])\n",
    "second = int(directory[0][17:19])\n",
    "print(directory[0])\n",
    "print(year, month, day, hour, minute, second)"
   ]
  },
  {
   "cell_type": "code",
   "execution_count": 25,
   "metadata": {},
   "outputs": [
    {
     "name": "stdout",
     "output_type": "stream",
     "text": [
      "Finished\n"
     ]
    }
   ],
   "source": [
    "\"\"\"m1 = []\n",
    "m2 = []\n",
    "m3 = []\n",
    "m4 = []\n",
    "i = 0\n",
    "while i < len(directory):\n",
    "#while i < 20:\n",
    "    data = pd.read_table(directory[i],header = None)\n",
    "    B1X = getCompleteDataFrame(np.transpose(data.values[:,0]),Tmax,NumberOfSamples,SampleFrequency,n,N,Bd,Pd,phi,directory[i],1)\n",
    "    B2X = getCompleteDataFrame(np.transpose(data.values[:,2]),Tmax,NumberOfSamples,SampleFrequency,n,N,Bd,Pd,phi,directory[i],2)\n",
    "    B3X = getCompleteDataFrame(np.transpose(data.values[:,4]),Tmax,NumberOfSamples,SampleFrequency,n,N,Bd,Pd,phi,directory[i],3)\n",
    "    B4X = getCompleteDataFrame(np.transpose(data.values[:,6]),Tmax,NumberOfSamples,SampleFrequency,n,N,Bd,Pd,phi,directory[i],4)\n",
    "    ColumnTitle = B1X.columns\n",
    "    m1.append(B1X.values[0,:])\n",
    "    m2.append(B2X.values[0,:])\n",
    "    m3.append(B3X.values[0,:])\n",
    "    m4.append(B4X.values[0,:])\n",
    "    i += 1\n",
    "\n",
    "B1X = pd.DataFrame(m1,columns = ColumnTitle)\n",
    "B2X = pd.DataFrame(m2,columns = ColumnTitle)\n",
    "B3X = pd.DataFrame(m3,columns = ColumnTitle)\n",
    "B4X = pd.DataFrame(m4,columns = ColumnTitle)\n",
    "TD = B1X\n",
    "TD = TD.append(B2X)\n",
    "TD = TD.append(B3X)\n",
    "TD = TD.append(B4X)\n",
    "TD.to_csv(\"DELETE.csv\")\n",
    "print(\"Finished\")\n",
    "\n",
    "os.chdir(HomeDirectory)\n",
    "\"\"\"\n",
    "print(\"Finished\")"
   ]
  },
  {
   "cell_type": "code",
   "execution_count": 26,
   "metadata": {},
   "outputs": [],
   "source": [
    "#Get Training Data\n",
    "HomeDirectory = \"/Users/tbryan/Desktop/9 2019 Fall/ECEN 403/Programming/Programs_October13\"\n",
    "os.chdir(HomeDirectory)\n",
    "directory = os.listdir(HomeDirectory)\n",
    "TrainingDataFile = \"DELETE.csv\"\n",
    "for file in directory:\n",
    "    if file == TrainingDataFile:\n",
    "        dataset = pd.read_csv(file,header = 0,index_col = 0)\n",
    "\n",
    "X = dataset.values[:,1:(dataset.shape[1]-1)]\n",
    "Y = dataset.values[:,0]\n",
    "validation_size = 0.20\n",
    "seed = 6\n",
    "X_train, X_test, Y_train, Y_test = model_selection.train_test_split(X, Y, test_size=validation_size, random_state=seed)   \n"
   ]
  },
  {
   "cell_type": "code",
   "execution_count": 27,
   "metadata": {},
   "outputs": [
    {
     "name": "stdout",
     "output_type": "stream",
     "text": [
      "Accuracy on training set is : 1.0\n",
      "Accuracy on test set is : 0.9263768115942029\n",
      "                         precision    recall  f1-score   support\n",
      "\n",
      "                  Early       0.98      0.92      0.95       276\n",
      "       Imminent Failure       1.00      0.80      0.89        20\n",
      "     Inner Race Failure       0.90      1.00      0.95         9\n",
      "                 Normal       0.91      0.97      0.94       879\n",
      "Rolling Element Failure       0.98      0.94      0.96        63\n",
      "        Stage 2 Failure       0.94      0.98      0.96        64\n",
      "                Suspect       0.93      0.84      0.88       414\n",
      "\n",
      "            avg / total       0.93      0.93      0.93      1725\n",
      "\n"
     ]
    }
   ],
   "source": [
    "clf = RandomForestClassifier(n_estimators=1000)\n",
    "clf.fit(X_train, Y_train)\n",
    "print(\"Accuracy on training set is : {}\".format(clf.score(X_train, Y_train)))\n",
    "print(\"Accuracy on test set is : {}\".format(clf.score(X_test, Y_test)))\n",
    "Y_test_pred = clf.predict(X_test)\n",
    "print(classification_report(Y_test, Y_test_pred))"
   ]
  },
  {
   "cell_type": "code",
   "execution_count": 89,
   "metadata": {},
   "outputs": [
    {
     "name": "stdout",
     "output_type": "stream",
     "text": [
      "4\n"
     ]
    },
    {
     "data": {
      "image/png": "[encoded data removed]",
      "text/plain": [
       "<Figure size 432x288 with 1 Axes>"
      ]
     },
     "metadata": {},
     "output_type": "display_data"
    },
    {
     "data": {
      "image/png": "[encoded data removed]",
      "text/plain": [
       "<Figure size 432x288 with 1 Axes>"
      ]
     },
     "metadata": {},
     "output_type": "display_data"
    },
    {
     "data": {
      "image/png": "[encoded data removed]",
      "text/plain": [
       "<Figure size 432x288 with 1 Axes>"
      ]
     },
     "metadata": {},
     "output_type": "display_data"
    },
    {
     "data": {
      "image/png": "[encoded data removed]",
      "text/plain": [
       "<Figure size 432x288 with 1 Axes>"
      ]
     },
     "metadata": {},
     "output_type": "display_data"
    }
   ],
   "source": [
    "\"Graph for Brendan\"\n",
    "figs = []\n",
    "figs.append(getPlot(dataset.index[0:2155],dataset[\"RMS\"][0:2155].values,\"Sample #\",\"RMS\",\"RMS\"))\n",
    "figs.append(getPlot(dataset.index[2156:4311],dataset[\"RMS\"][2156:4311].values,\"Sample #\",\"RMS\",\"RMS\"))\n",
    "figs.append(getPlot(dataset.index[4312:6467],dataset[\"RMS\"][4312:6467].values,\"Sample #\",\"RMS\",\"RMS\"))\n",
    "figs.append(getPlot(dataset.index[6468:8623],dataset[\"RMS\"][6468:8623].values,\"Sample #\",\"RMS\",\"RMS\"))"
   ]
  },
  {
   "cell_type": "code",
   "execution_count": 58,
   "metadata": {},
   "outputs": [
    {
     "ename": "KeyboardInterrupt",
     "evalue": "",
     "output_type": "error",
     "traceback": [
      "\u001b[0;31m---------------------------------------------------------------------------\u001b[0m",
      "\u001b[0;31mKeyboardInterrupt\u001b[0m                         Traceback (most recent call last)",
      "\u001b[0;32m<ipython-input-58-b553400d43c1>\u001b[0m in \u001b[0;36m<module>\u001b[0;34m()\u001b[0m\n\u001b[1;32m     12\u001b[0m \u001b[0mclf\u001b[0m \u001b[0;34m=\u001b[0m \u001b[0mRandomForestClassifier\u001b[0m\u001b[0;34m(\u001b[0m\u001b[0mn_estimators\u001b[0m\u001b[0;34m=\u001b[0m\u001b[0;36m1000\u001b[0m\u001b[0;34m)\u001b[0m\u001b[0;34m\u001b[0m\u001b[0m\n\u001b[1;32m     13\u001b[0m \u001b[0mrfe\u001b[0m \u001b[0;34m=\u001b[0m \u001b[0mRFE\u001b[0m\u001b[0;34m(\u001b[0m\u001b[0mclf\u001b[0m\u001b[0;34m,\u001b[0m \u001b[0;36m3\u001b[0m\u001b[0;34m)\u001b[0m\u001b[0;34m\u001b[0m\u001b[0m\n\u001b[0;32m---> 14\u001b[0;31m \u001b[0mfit\u001b[0m \u001b[0;34m=\u001b[0m \u001b[0mrfe\u001b[0m\u001b[0;34m.\u001b[0m\u001b[0mfit\u001b[0m\u001b[0;34m(\u001b[0m\u001b[0mX\u001b[0m\u001b[0;34m,\u001b[0m \u001b[0mY\u001b[0m\u001b[0;34m)\u001b[0m\u001b[0;34m\u001b[0m\u001b[0m\n\u001b[0m\u001b[1;32m     15\u001b[0m \u001b[0mprint\u001b[0m\u001b[0;34m(\u001b[0m\u001b[0;34m\"Num Features: %d\"\u001b[0m \u001b[0;34m%\u001b[0m \u001b[0mfit\u001b[0m\u001b[0;34m.\u001b[0m\u001b[0mn_features_\u001b[0m\u001b[0;34m)\u001b[0m\u001b[0;34m\u001b[0m\u001b[0m\n\u001b[1;32m     16\u001b[0m \u001b[0mprint\u001b[0m\u001b[0;34m(\u001b[0m\u001b[0;34m\"Selected Features: %s\"\u001b[0m \u001b[0;34m%\u001b[0m \u001b[0mfit\u001b[0m\u001b[0;34m.\u001b[0m\u001b[0msupport_\u001b[0m\u001b[0;34m)\u001b[0m\u001b[0;34m\u001b[0m\u001b[0m\n",
      "\u001b[0;32m~/anaconda3/lib/python3.6/site-packages/sklearn/feature_selection/rfe.py\u001b[0m in \u001b[0;36mfit\u001b[0;34m(self, X, y)\u001b[0m\n\u001b[1;32m    132\u001b[0m             \u001b[0mThe\u001b[0m \u001b[0mtarget\u001b[0m \u001b[0mvalues\u001b[0m\u001b[0;34m.\u001b[0m\u001b[0;34m\u001b[0m\u001b[0m\n\u001b[1;32m    133\u001b[0m         \"\"\"\n\u001b[0;32m--> 134\u001b[0;31m         \u001b[0;32mreturn\u001b[0m \u001b[0mself\u001b[0m\u001b[0;34m.\u001b[0m\u001b[0m_fit\u001b[0m\u001b[0;34m(\u001b[0m\u001b[0mX\u001b[0m\u001b[0;34m,\u001b[0m \u001b[0my\u001b[0m\u001b[0;34m)\u001b[0m\u001b[0;34m\u001b[0m\u001b[0m\n\u001b[0m\u001b[1;32m    135\u001b[0m \u001b[0;34m\u001b[0m\u001b[0m\n\u001b[1;32m    136\u001b[0m     \u001b[0;32mdef\u001b[0m \u001b[0m_fit\u001b[0m\u001b[0;34m(\u001b[0m\u001b[0mself\u001b[0m\u001b[0;34m,\u001b[0m \u001b[0mX\u001b[0m\u001b[0;34m,\u001b[0m \u001b[0my\u001b[0m\u001b[0;34m,\u001b[0m \u001b[0mstep_score\u001b[0m\u001b[0;34m=\u001b[0m\u001b[0;32mNone\u001b[0m\u001b[0;34m)\u001b[0m\u001b[0;34m:\u001b[0m\u001b[0;34m\u001b[0m\u001b[0m\n",
      "\u001b[0;32m~/anaconda3/lib/python3.6/site-packages/sklearn/feature_selection/rfe.py\u001b[0m in \u001b[0;36m_fit\u001b[0;34m(self, X, y, step_score)\u001b[0m\n\u001b[1;32m    171\u001b[0m                 \u001b[0mprint\u001b[0m\u001b[0;34m(\u001b[0m\u001b[0;34m\"Fitting estimator with %d features.\"\u001b[0m \u001b[0;34m%\u001b[0m \u001b[0mnp\u001b[0m\u001b[0;34m.\u001b[0m\u001b[0msum\u001b[0m\u001b[0;34m(\u001b[0m\u001b[0msupport_\u001b[0m\u001b[0;34m)\u001b[0m\u001b[0;34m)\u001b[0m\u001b[0;34m\u001b[0m\u001b[0m\n\u001b[1;32m    172\u001b[0m \u001b[0;34m\u001b[0m\u001b[0m\n\u001b[0;32m--> 173\u001b[0;31m             \u001b[0mestimator\u001b[0m\u001b[0;34m.\u001b[0m\u001b[0mfit\u001b[0m\u001b[0;34m(\u001b[0m\u001b[0mX\u001b[0m\u001b[0;34m[\u001b[0m\u001b[0;34m:\u001b[0m\u001b[0;34m,\u001b[0m \u001b[0mfeatures\u001b[0m\u001b[0;34m]\u001b[0m\u001b[0;34m,\u001b[0m \u001b[0my\u001b[0m\u001b[0;34m)\u001b[0m\u001b[0;34m\u001b[0m\u001b[0m\n\u001b[0m\u001b[1;32m    174\u001b[0m \u001b[0;34m\u001b[0m\u001b[0m\n\u001b[1;32m    175\u001b[0m             \u001b[0;31m# Get coefs\u001b[0m\u001b[0;34m\u001b[0m\u001b[0;34m\u001b[0m\u001b[0m\n",
      "\u001b[0;32m~/anaconda3/lib/python3.6/site-packages/sklearn/ensemble/forest.py\u001b[0m in \u001b[0;36mfit\u001b[0;34m(self, X, y, sample_weight)\u001b[0m\n\u001b[1;32m    326\u001b[0m                     \u001b[0mt\u001b[0m\u001b[0;34m,\u001b[0m \u001b[0mself\u001b[0m\u001b[0;34m,\u001b[0m \u001b[0mX\u001b[0m\u001b[0;34m,\u001b[0m \u001b[0my\u001b[0m\u001b[0;34m,\u001b[0m \u001b[0msample_weight\u001b[0m\u001b[0;34m,\u001b[0m \u001b[0mi\u001b[0m\u001b[0;34m,\u001b[0m \u001b[0mlen\u001b[0m\u001b[0;34m(\u001b[0m\u001b[0mtrees\u001b[0m\u001b[0;34m)\u001b[0m\u001b[0;34m,\u001b[0m\u001b[0;34m\u001b[0m\u001b[0m\n\u001b[1;32m    327\u001b[0m                     verbose=self.verbose, class_weight=self.class_weight)\n\u001b[0;32m--> 328\u001b[0;31m                 for i, t in enumerate(trees))\n\u001b[0m\u001b[1;32m    329\u001b[0m \u001b[0;34m\u001b[0m\u001b[0m\n\u001b[1;32m    330\u001b[0m             \u001b[0;31m# Collect newly grown trees\u001b[0m\u001b[0;34m\u001b[0m\u001b[0;34m\u001b[0m\u001b[0m\n",
      "\u001b[0;32m~/anaconda3/lib/python3.6/site-packages/sklearn/externals/joblib/parallel.py\u001b[0m in \u001b[0;36m__call__\u001b[0;34m(self, iterable)\u001b[0m\n\u001b[1;32m    777\u001b[0m             \u001b[0;31m# was dispatched. In particular this covers the edge\u001b[0m\u001b[0;34m\u001b[0m\u001b[0;34m\u001b[0m\u001b[0m\n\u001b[1;32m    778\u001b[0m             \u001b[0;31m# case of Parallel used with an exhausted iterator.\u001b[0m\u001b[0;34m\u001b[0m\u001b[0;34m\u001b[0m\u001b[0m\n\u001b[0;32m--> 779\u001b[0;31m             \u001b[0;32mwhile\u001b[0m \u001b[0mself\u001b[0m\u001b[0;34m.\u001b[0m\u001b[0mdispatch_one_batch\u001b[0m\u001b[0;34m(\u001b[0m\u001b[0miterator\u001b[0m\u001b[0;34m)\u001b[0m\u001b[0;34m:\u001b[0m\u001b[0;34m\u001b[0m\u001b[0m\n\u001b[0m\u001b[1;32m    780\u001b[0m                 \u001b[0mself\u001b[0m\u001b[0;34m.\u001b[0m\u001b[0m_iterating\u001b[0m \u001b[0;34m=\u001b[0m \u001b[0;32mTrue\u001b[0m\u001b[0;34m\u001b[0m\u001b[0m\n\u001b[1;32m    781\u001b[0m             \u001b[0;32melse\u001b[0m\u001b[0;34m:\u001b[0m\u001b[0;34m\u001b[0m\u001b[0m\n",
      "\u001b[0;32m~/anaconda3/lib/python3.6/site-packages/sklearn/externals/joblib/parallel.py\u001b[0m in \u001b[0;36mdispatch_one_batch\u001b[0;34m(self, iterator)\u001b[0m\n\u001b[1;32m    623\u001b[0m                 \u001b[0;32mreturn\u001b[0m \u001b[0;32mFalse\u001b[0m\u001b[0;34m\u001b[0m\u001b[0m\n\u001b[1;32m    624\u001b[0m             \u001b[0;32melse\u001b[0m\u001b[0;34m:\u001b[0m\u001b[0;34m\u001b[0m\u001b[0m\n\u001b[0;32m--> 625\u001b[0;31m                 \u001b[0mself\u001b[0m\u001b[0;34m.\u001b[0m\u001b[0m_dispatch\u001b[0m\u001b[0;34m(\u001b[0m\u001b[0mtasks\u001b[0m\u001b[0;34m)\u001b[0m\u001b[0;34m\u001b[0m\u001b[0m\n\u001b[0m\u001b[1;32m    626\u001b[0m                 \u001b[0;32mreturn\u001b[0m \u001b[0;32mTrue\u001b[0m\u001b[0;34m\u001b[0m\u001b[0m\n\u001b[1;32m    627\u001b[0m \u001b[0;34m\u001b[0m\u001b[0m\n",
      "\u001b[0;32m~/anaconda3/lib/python3.6/site-packages/sklearn/externals/joblib/parallel.py\u001b[0m in \u001b[0;36m_dispatch\u001b[0;34m(self, batch)\u001b[0m\n\u001b[1;32m    586\u001b[0m         \u001b[0mdispatch_timestamp\u001b[0m \u001b[0;34m=\u001b[0m \u001b[0mtime\u001b[0m\u001b[0;34m.\u001b[0m\u001b[0mtime\u001b[0m\u001b[0;34m(\u001b[0m\u001b[0;34m)\u001b[0m\u001b[0;34m\u001b[0m\u001b[0m\n\u001b[1;32m    587\u001b[0m         \u001b[0mcb\u001b[0m \u001b[0;34m=\u001b[0m \u001b[0mBatchCompletionCallBack\u001b[0m\u001b[0;34m(\u001b[0m\u001b[0mdispatch_timestamp\u001b[0m\u001b[0;34m,\u001b[0m \u001b[0mlen\u001b[0m\u001b[0;34m(\u001b[0m\u001b[0mbatch\u001b[0m\u001b[0;34m)\u001b[0m\u001b[0;34m,\u001b[0m \u001b[0mself\u001b[0m\u001b[0;34m)\u001b[0m\u001b[0;34m\u001b[0m\u001b[0m\n\u001b[0;32m--> 588\u001b[0;31m         \u001b[0mjob\u001b[0m \u001b[0;34m=\u001b[0m \u001b[0mself\u001b[0m\u001b[0;34m.\u001b[0m\u001b[0m_backend\u001b[0m\u001b[0;34m.\u001b[0m\u001b[0mapply_async\u001b[0m\u001b[0;34m(\u001b[0m\u001b[0mbatch\u001b[0m\u001b[0;34m,\u001b[0m \u001b[0mcallback\u001b[0m\u001b[0;34m=\u001b[0m\u001b[0mcb\u001b[0m\u001b[0;34m)\u001b[0m\u001b[0;34m\u001b[0m\u001b[0m\n\u001b[0m\u001b[1;32m    589\u001b[0m         \u001b[0mself\u001b[0m\u001b[0;34m.\u001b[0m\u001b[0m_jobs\u001b[0m\u001b[0;34m.\u001b[0m\u001b[0mappend\u001b[0m\u001b[0;34m(\u001b[0m\u001b[0mjob\u001b[0m\u001b[0;34m)\u001b[0m\u001b[0;34m\u001b[0m\u001b[0m\n\u001b[1;32m    590\u001b[0m \u001b[0;34m\u001b[0m\u001b[0m\n",
      "\u001b[0;32m~/anaconda3/lib/python3.6/site-packages/sklearn/externals/joblib/_parallel_backends.py\u001b[0m in \u001b[0;36mapply_async\u001b[0;34m(self, func, callback)\u001b[0m\n\u001b[1;32m    109\u001b[0m     \u001b[0;32mdef\u001b[0m \u001b[0mapply_async\u001b[0m\u001b[0;34m(\u001b[0m\u001b[0mself\u001b[0m\u001b[0;34m,\u001b[0m \u001b[0mfunc\u001b[0m\u001b[0;34m,\u001b[0m \u001b[0mcallback\u001b[0m\u001b[0;34m=\u001b[0m\u001b[0;32mNone\u001b[0m\u001b[0;34m)\u001b[0m\u001b[0;34m:\u001b[0m\u001b[0;34m\u001b[0m\u001b[0m\n\u001b[1;32m    110\u001b[0m         \u001b[0;34m\"\"\"Schedule a func to be run\"\"\"\u001b[0m\u001b[0;34m\u001b[0m\u001b[0m\n\u001b[0;32m--> 111\u001b[0;31m         \u001b[0mresult\u001b[0m \u001b[0;34m=\u001b[0m \u001b[0mImmediateResult\u001b[0m\u001b[0;34m(\u001b[0m\u001b[0mfunc\u001b[0m\u001b[0;34m)\u001b[0m\u001b[0;34m\u001b[0m\u001b[0m\n\u001b[0m\u001b[1;32m    112\u001b[0m         \u001b[0;32mif\u001b[0m \u001b[0mcallback\u001b[0m\u001b[0;34m:\u001b[0m\u001b[0;34m\u001b[0m\u001b[0m\n\u001b[1;32m    113\u001b[0m             \u001b[0mcallback\u001b[0m\u001b[0;34m(\u001b[0m\u001b[0mresult\u001b[0m\u001b[0;34m)\u001b[0m\u001b[0;34m\u001b[0m\u001b[0m\n",
      "\u001b[0;32m~/anaconda3/lib/python3.6/site-packages/sklearn/externals/joblib/_parallel_backends.py\u001b[0m in \u001b[0;36m__init__\u001b[0;34m(self, batch)\u001b[0m\n\u001b[1;32m    330\u001b[0m         \u001b[0;31m# Don't delay the application, to avoid keeping the input\u001b[0m\u001b[0;34m\u001b[0m\u001b[0;34m\u001b[0m\u001b[0m\n\u001b[1;32m    331\u001b[0m         \u001b[0;31m# arguments in memory\u001b[0m\u001b[0;34m\u001b[0m\u001b[0;34m\u001b[0m\u001b[0m\n\u001b[0;32m--> 332\u001b[0;31m         \u001b[0mself\u001b[0m\u001b[0;34m.\u001b[0m\u001b[0mresults\u001b[0m \u001b[0;34m=\u001b[0m \u001b[0mbatch\u001b[0m\u001b[0;34m(\u001b[0m\u001b[0;34m)\u001b[0m\u001b[0;34m\u001b[0m\u001b[0m\n\u001b[0m\u001b[1;32m    333\u001b[0m \u001b[0;34m\u001b[0m\u001b[0m\n\u001b[1;32m    334\u001b[0m     \u001b[0;32mdef\u001b[0m \u001b[0mget\u001b[0m\u001b[0;34m(\u001b[0m\u001b[0mself\u001b[0m\u001b[0;34m)\u001b[0m\u001b[0;34m:\u001b[0m\u001b[0;34m\u001b[0m\u001b[0m\n",
      "\u001b[0;32m~/anaconda3/lib/python3.6/site-packages/sklearn/externals/joblib/parallel.py\u001b[0m in \u001b[0;36m__call__\u001b[0;34m(self)\u001b[0m\n\u001b[1;32m    129\u001b[0m \u001b[0;34m\u001b[0m\u001b[0m\n\u001b[1;32m    130\u001b[0m     \u001b[0;32mdef\u001b[0m \u001b[0m__call__\u001b[0m\u001b[0;34m(\u001b[0m\u001b[0mself\u001b[0m\u001b[0;34m)\u001b[0m\u001b[0;34m:\u001b[0m\u001b[0;34m\u001b[0m\u001b[0m\n\u001b[0;32m--> 131\u001b[0;31m         \u001b[0;32mreturn\u001b[0m \u001b[0;34m[\u001b[0m\u001b[0mfunc\u001b[0m\u001b[0;34m(\u001b[0m\u001b[0;34m*\u001b[0m\u001b[0margs\u001b[0m\u001b[0;34m,\u001b[0m \u001b[0;34m**\u001b[0m\u001b[0mkwargs\u001b[0m\u001b[0;34m)\u001b[0m \u001b[0;32mfor\u001b[0m \u001b[0mfunc\u001b[0m\u001b[0;34m,\u001b[0m \u001b[0margs\u001b[0m\u001b[0;34m,\u001b[0m \u001b[0mkwargs\u001b[0m \u001b[0;32min\u001b[0m \u001b[0mself\u001b[0m\u001b[0;34m.\u001b[0m\u001b[0mitems\u001b[0m\u001b[0;34m]\u001b[0m\u001b[0;34m\u001b[0m\u001b[0m\n\u001b[0m\u001b[1;32m    132\u001b[0m \u001b[0;34m\u001b[0m\u001b[0m\n\u001b[1;32m    133\u001b[0m     \u001b[0;32mdef\u001b[0m \u001b[0m__len__\u001b[0m\u001b[0;34m(\u001b[0m\u001b[0mself\u001b[0m\u001b[0;34m)\u001b[0m\u001b[0;34m:\u001b[0m\u001b[0;34m\u001b[0m\u001b[0m\n",
      "\u001b[0;32m~/anaconda3/lib/python3.6/site-packages/sklearn/externals/joblib/parallel.py\u001b[0m in \u001b[0;36m<listcomp>\u001b[0;34m(.0)\u001b[0m\n\u001b[1;32m    129\u001b[0m \u001b[0;34m\u001b[0m\u001b[0m\n\u001b[1;32m    130\u001b[0m     \u001b[0;32mdef\u001b[0m \u001b[0m__call__\u001b[0m\u001b[0;34m(\u001b[0m\u001b[0mself\u001b[0m\u001b[0;34m)\u001b[0m\u001b[0;34m:\u001b[0m\u001b[0;34m\u001b[0m\u001b[0m\n\u001b[0;32m--> 131\u001b[0;31m         \u001b[0;32mreturn\u001b[0m \u001b[0;34m[\u001b[0m\u001b[0mfunc\u001b[0m\u001b[0;34m(\u001b[0m\u001b[0;34m*\u001b[0m\u001b[0margs\u001b[0m\u001b[0;34m,\u001b[0m \u001b[0;34m**\u001b[0m\u001b[0mkwargs\u001b[0m\u001b[0;34m)\u001b[0m \u001b[0;32mfor\u001b[0m \u001b[0mfunc\u001b[0m\u001b[0;34m,\u001b[0m \u001b[0margs\u001b[0m\u001b[0;34m,\u001b[0m \u001b[0mkwargs\u001b[0m \u001b[0;32min\u001b[0m \u001b[0mself\u001b[0m\u001b[0;34m.\u001b[0m\u001b[0mitems\u001b[0m\u001b[0;34m]\u001b[0m\u001b[0;34m\u001b[0m\u001b[0m\n\u001b[0m\u001b[1;32m    132\u001b[0m \u001b[0;34m\u001b[0m\u001b[0m\n\u001b[1;32m    133\u001b[0m     \u001b[0;32mdef\u001b[0m \u001b[0m__len__\u001b[0m\u001b[0;34m(\u001b[0m\u001b[0mself\u001b[0m\u001b[0;34m)\u001b[0m\u001b[0;34m:\u001b[0m\u001b[0;34m\u001b[0m\u001b[0m\n",
      "\u001b[0;32m~/anaconda3/lib/python3.6/site-packages/sklearn/ensemble/forest.py\u001b[0m in \u001b[0;36m_parallel_build_trees\u001b[0;34m(tree, forest, X, y, sample_weight, tree_idx, n_trees, verbose, class_weight)\u001b[0m\n\u001b[1;32m    119\u001b[0m             \u001b[0mcurr_sample_weight\u001b[0m \u001b[0;34m*=\u001b[0m \u001b[0mcompute_sample_weight\u001b[0m\u001b[0;34m(\u001b[0m\u001b[0;34m'balanced'\u001b[0m\u001b[0;34m,\u001b[0m \u001b[0my\u001b[0m\u001b[0;34m,\u001b[0m \u001b[0mindices\u001b[0m\u001b[0;34m)\u001b[0m\u001b[0;34m\u001b[0m\u001b[0m\n\u001b[1;32m    120\u001b[0m \u001b[0;34m\u001b[0m\u001b[0m\n\u001b[0;32m--> 121\u001b[0;31m         \u001b[0mtree\u001b[0m\u001b[0;34m.\u001b[0m\u001b[0mfit\u001b[0m\u001b[0;34m(\u001b[0m\u001b[0mX\u001b[0m\u001b[0;34m,\u001b[0m \u001b[0my\u001b[0m\u001b[0;34m,\u001b[0m \u001b[0msample_weight\u001b[0m\u001b[0;34m=\u001b[0m\u001b[0mcurr_sample_weight\u001b[0m\u001b[0;34m,\u001b[0m \u001b[0mcheck_input\u001b[0m\u001b[0;34m=\u001b[0m\u001b[0;32mFalse\u001b[0m\u001b[0;34m)\u001b[0m\u001b[0;34m\u001b[0m\u001b[0m\n\u001b[0m\u001b[1;32m    122\u001b[0m     \u001b[0;32melse\u001b[0m\u001b[0;34m:\u001b[0m\u001b[0;34m\u001b[0m\u001b[0m\n\u001b[1;32m    123\u001b[0m         \u001b[0mtree\u001b[0m\u001b[0;34m.\u001b[0m\u001b[0mfit\u001b[0m\u001b[0;34m(\u001b[0m\u001b[0mX\u001b[0m\u001b[0;34m,\u001b[0m \u001b[0my\u001b[0m\u001b[0;34m,\u001b[0m \u001b[0msample_weight\u001b[0m\u001b[0;34m=\u001b[0m\u001b[0msample_weight\u001b[0m\u001b[0;34m,\u001b[0m \u001b[0mcheck_input\u001b[0m\u001b[0;34m=\u001b[0m\u001b[0;32mFalse\u001b[0m\u001b[0;34m)\u001b[0m\u001b[0;34m\u001b[0m\u001b[0m\n",
      "\u001b[0;32m~/anaconda3/lib/python3.6/site-packages/sklearn/tree/tree.py\u001b[0m in \u001b[0;36mfit\u001b[0;34m(self, X, y, sample_weight, check_input, X_idx_sorted)\u001b[0m\n\u001b[1;32m    788\u001b[0m             \u001b[0msample_weight\u001b[0m\u001b[0;34m=\u001b[0m\u001b[0msample_weight\u001b[0m\u001b[0;34m,\u001b[0m\u001b[0;34m\u001b[0m\u001b[0m\n\u001b[1;32m    789\u001b[0m             \u001b[0mcheck_input\u001b[0m\u001b[0;34m=\u001b[0m\u001b[0mcheck_input\u001b[0m\u001b[0;34m,\u001b[0m\u001b[0;34m\u001b[0m\u001b[0m\n\u001b[0;32m--> 790\u001b[0;31m             X_idx_sorted=X_idx_sorted)\n\u001b[0m\u001b[1;32m    791\u001b[0m         \u001b[0;32mreturn\u001b[0m \u001b[0mself\u001b[0m\u001b[0;34m\u001b[0m\u001b[0m\n\u001b[1;32m    792\u001b[0m \u001b[0;34m\u001b[0m\u001b[0m\n",
      "\u001b[0;32m~/anaconda3/lib/python3.6/site-packages/sklearn/tree/tree.py\u001b[0m in \u001b[0;36mfit\u001b[0;34m(self, X, y, sample_weight, check_input, X_idx_sorted)\u001b[0m\n\u001b[1;32m    138\u001b[0m \u001b[0;34m\u001b[0m\u001b[0m\n\u001b[1;32m    139\u001b[0m         \u001b[0;32mif\u001b[0m \u001b[0mis_classification\u001b[0m\u001b[0;34m:\u001b[0m\u001b[0;34m\u001b[0m\u001b[0m\n\u001b[0;32m--> 140\u001b[0;31m             \u001b[0mcheck_classification_targets\u001b[0m\u001b[0;34m(\u001b[0m\u001b[0my\u001b[0m\u001b[0;34m)\u001b[0m\u001b[0;34m\u001b[0m\u001b[0m\n\u001b[0m\u001b[1;32m    141\u001b[0m             \u001b[0my\u001b[0m \u001b[0;34m=\u001b[0m \u001b[0mnp\u001b[0m\u001b[0;34m.\u001b[0m\u001b[0mcopy\u001b[0m\u001b[0;34m(\u001b[0m\u001b[0my\u001b[0m\u001b[0;34m)\u001b[0m\u001b[0;34m\u001b[0m\u001b[0m\n\u001b[1;32m    142\u001b[0m \u001b[0;34m\u001b[0m\u001b[0m\n",
      "\u001b[0;32m~/anaconda3/lib/python3.6/site-packages/sklearn/utils/multiclass.py\u001b[0m in \u001b[0;36mcheck_classification_targets\u001b[0;34m(y)\u001b[0m\n\u001b[1;32m    167\u001b[0m     \u001b[0my\u001b[0m \u001b[0;34m:\u001b[0m \u001b[0marray\u001b[0m\u001b[0;34m-\u001b[0m\u001b[0mlike\u001b[0m\u001b[0;34m\u001b[0m\u001b[0m\n\u001b[1;32m    168\u001b[0m     \"\"\"\n\u001b[0;32m--> 169\u001b[0;31m     \u001b[0my_type\u001b[0m \u001b[0;34m=\u001b[0m \u001b[0mtype_of_target\u001b[0m\u001b[0;34m(\u001b[0m\u001b[0my\u001b[0m\u001b[0;34m)\u001b[0m\u001b[0;34m\u001b[0m\u001b[0m\n\u001b[0m\u001b[1;32m    170\u001b[0m     if y_type not in ['binary', 'multiclass', 'multiclass-multioutput',\n\u001b[1;32m    171\u001b[0m                       'multilabel-indicator', 'multilabel-sequences']:\n",
      "\u001b[0;32m~/anaconda3/lib/python3.6/site-packages/sklearn/utils/multiclass.py\u001b[0m in \u001b[0;36mtype_of_target\u001b[0;34m(y)\u001b[0m\n\u001b[1;32m    286\u001b[0m         \u001b[0;32mreturn\u001b[0m \u001b[0;34m'continuous'\u001b[0m \u001b[0;34m+\u001b[0m \u001b[0msuffix\u001b[0m\u001b[0;34m\u001b[0m\u001b[0m\n\u001b[1;32m    287\u001b[0m \u001b[0;34m\u001b[0m\u001b[0m\n\u001b[0;32m--> 288\u001b[0;31m     \u001b[0;32mif\u001b[0m \u001b[0;34m(\u001b[0m\u001b[0mlen\u001b[0m\u001b[0;34m(\u001b[0m\u001b[0mnp\u001b[0m\u001b[0;34m.\u001b[0m\u001b[0munique\u001b[0m\u001b[0;34m(\u001b[0m\u001b[0my\u001b[0m\u001b[0;34m)\u001b[0m\u001b[0;34m)\u001b[0m \u001b[0;34m>\u001b[0m \u001b[0;36m2\u001b[0m\u001b[0;34m)\u001b[0m \u001b[0;32mor\u001b[0m \u001b[0;34m(\u001b[0m\u001b[0my\u001b[0m\u001b[0;34m.\u001b[0m\u001b[0mndim\u001b[0m \u001b[0;34m>=\u001b[0m \u001b[0;36m2\u001b[0m \u001b[0;32mand\u001b[0m \u001b[0mlen\u001b[0m\u001b[0;34m(\u001b[0m\u001b[0my\u001b[0m\u001b[0;34m[\u001b[0m\u001b[0;36m0\u001b[0m\u001b[0;34m]\u001b[0m\u001b[0;34m)\u001b[0m \u001b[0;34m>\u001b[0m \u001b[0;36m1\u001b[0m\u001b[0;34m)\u001b[0m\u001b[0;34m:\u001b[0m\u001b[0;34m\u001b[0m\u001b[0m\n\u001b[0m\u001b[1;32m    289\u001b[0m         \u001b[0;32mreturn\u001b[0m \u001b[0;34m'multiclass'\u001b[0m \u001b[0;34m+\u001b[0m \u001b[0msuffix\u001b[0m  \u001b[0;31m# [1, 2, 3] or [[1., 2., 3]] or [[1, 2]]\u001b[0m\u001b[0;34m\u001b[0m\u001b[0m\n\u001b[1;32m    290\u001b[0m     \u001b[0;32melse\u001b[0m\u001b[0;34m:\u001b[0m\u001b[0;34m\u001b[0m\u001b[0m\n",
      "\u001b[0;32m~/anaconda3/lib/python3.6/site-packages/numpy/lib/arraysetops.py\u001b[0m in \u001b[0;36munique\u001b[0;34m(ar, return_index, return_inverse, return_counts, axis)\u001b[0m\n\u001b[1;32m    221\u001b[0m     \u001b[0mar\u001b[0m \u001b[0;34m=\u001b[0m \u001b[0mnp\u001b[0m\u001b[0;34m.\u001b[0m\u001b[0masanyarray\u001b[0m\u001b[0;34m(\u001b[0m\u001b[0mar\u001b[0m\u001b[0;34m)\u001b[0m\u001b[0;34m\u001b[0m\u001b[0m\n\u001b[1;32m    222\u001b[0m     \u001b[0;32mif\u001b[0m \u001b[0maxis\u001b[0m \u001b[0;32mis\u001b[0m \u001b[0;32mNone\u001b[0m\u001b[0;34m:\u001b[0m\u001b[0;34m\u001b[0m\u001b[0m\n\u001b[0;32m--> 223\u001b[0;31m         \u001b[0;32mreturn\u001b[0m \u001b[0m_unique1d\u001b[0m\u001b[0;34m(\u001b[0m\u001b[0mar\u001b[0m\u001b[0;34m,\u001b[0m \u001b[0mreturn_index\u001b[0m\u001b[0;34m,\u001b[0m \u001b[0mreturn_inverse\u001b[0m\u001b[0;34m,\u001b[0m \u001b[0mreturn_counts\u001b[0m\u001b[0;34m)\u001b[0m\u001b[0;34m\u001b[0m\u001b[0m\n\u001b[0m\u001b[1;32m    224\u001b[0m     \u001b[0;32mif\u001b[0m \u001b[0;32mnot\u001b[0m \u001b[0;34m(\u001b[0m\u001b[0;34m-\u001b[0m\u001b[0mar\u001b[0m\u001b[0;34m.\u001b[0m\u001b[0mndim\u001b[0m \u001b[0;34m<=\u001b[0m \u001b[0maxis\u001b[0m \u001b[0;34m<\u001b[0m \u001b[0mar\u001b[0m\u001b[0;34m.\u001b[0m\u001b[0mndim\u001b[0m\u001b[0;34m)\u001b[0m\u001b[0;34m:\u001b[0m\u001b[0;34m\u001b[0m\u001b[0m\n\u001b[1;32m    225\u001b[0m         \u001b[0;32mraise\u001b[0m \u001b[0mValueError\u001b[0m\u001b[0;34m(\u001b[0m\u001b[0;34m'Invalid axis kwarg specified for unique'\u001b[0m\u001b[0;34m)\u001b[0m\u001b[0;34m\u001b[0m\u001b[0m\n",
      "\u001b[0;32m~/anaconda3/lib/python3.6/site-packages/numpy/lib/arraysetops.py\u001b[0m in \u001b[0;36m_unique1d\u001b[0;34m(ar, return_index, return_inverse, return_counts)\u001b[0m\n\u001b[1;32m    283\u001b[0m         \u001b[0mar\u001b[0m\u001b[0;34m.\u001b[0m\u001b[0msort\u001b[0m\u001b[0;34m(\u001b[0m\u001b[0;34m)\u001b[0m\u001b[0;34m\u001b[0m\u001b[0m\n\u001b[1;32m    284\u001b[0m         \u001b[0maux\u001b[0m \u001b[0;34m=\u001b[0m \u001b[0mar\u001b[0m\u001b[0;34m\u001b[0m\u001b[0m\n\u001b[0;32m--> 285\u001b[0;31m     \u001b[0mflag\u001b[0m \u001b[0;34m=\u001b[0m \u001b[0mnp\u001b[0m\u001b[0;34m.\u001b[0m\u001b[0mconcatenate\u001b[0m\u001b[0;34m(\u001b[0m\u001b[0;34m(\u001b[0m\u001b[0;34m[\u001b[0m\u001b[0;32mTrue\u001b[0m\u001b[0;34m]\u001b[0m\u001b[0;34m,\u001b[0m \u001b[0maux\u001b[0m\u001b[0;34m[\u001b[0m\u001b[0;36m1\u001b[0m\u001b[0;34m:\u001b[0m\u001b[0;34m]\u001b[0m \u001b[0;34m!=\u001b[0m \u001b[0maux\u001b[0m\u001b[0;34m[\u001b[0m\u001b[0;34m:\u001b[0m\u001b[0;34m-\u001b[0m\u001b[0;36m1\u001b[0m\u001b[0;34m]\u001b[0m\u001b[0;34m)\u001b[0m\u001b[0;34m)\u001b[0m\u001b[0;34m\u001b[0m\u001b[0m\n\u001b[0m\u001b[1;32m    286\u001b[0m \u001b[0;34m\u001b[0m\u001b[0m\n\u001b[1;32m    287\u001b[0m     \u001b[0;32mif\u001b[0m \u001b[0;32mnot\u001b[0m \u001b[0moptional_returns\u001b[0m\u001b[0;34m:\u001b[0m\u001b[0;34m\u001b[0m\u001b[0m\n",
      "\u001b[0;31mKeyboardInterrupt\u001b[0m: "
     ]
    }
   ],
   "source": [
    "#Begin Selecting Features using Chi Square\n",
    "from sklearn.feature_selection import chi2, SelectKBest\n",
    "from sklearn.feature_selection import RFE\n",
    "\n",
    "\"\"\"\n",
    "test = SelectKBest(score_func=chi2, k=4)\n",
    "test.fit(X_train,Y_train)\n",
    "print(test)\n",
    "print(chi2(X_train,Y_train))\n",
    "\"\"\"\n",
    "\n",
    "clf = RandomForestClassifier(n_estimators=1000)\n",
    "rfe = RFE(clf, 3)\n",
    "fit = rfe.fit(X, Y)\n",
    "print(\"Num Features: %d\" % fit.n_features_)\n",
    "print(\"Selected Features: %s\" % fit.support_)\n",
    "print(\"Feature Ranking: %s\" % fit.ranking_)"
   ]
  },
  {
   "cell_type": "code",
   "execution_count": 83,
   "metadata": {},
   "outputs": [
    {
     "name": "stdout",
     "output_type": "stream",
     "text": [
      "Hello\n",
      "Test\n",
      "t1\n"
     ]
    }
   ],
   "source": [
    "class MyPopUp:\n",
    "    def __init__(self, realpart, imagpart,m):\n",
    "        self.r = realpart\n",
    "        self.i = imagpart\n",
    "        self.m = m\n",
    "    \n",
    "    def update(self,string1):\n",
    "        self.m = string1\n",
    "        \n",
    "x = MyPopUp(realpart = 3, imagpart = 4, m = \"Hello\")\n",
    "print(x.m)\n",
    "x.m = \"Test\"\n",
    "print(x.m)\n",
    "x.update(\"t1\")\n",
    "print(x.m)"
   ]
  },
  {
   "cell_type": "code",
   "execution_count": 88,
   "metadata": {},
   "outputs": [
    {
     "data": {
      "image/png": "[encoded data removed]",
      "text/plain": [
       "<Figure size 432x288 with 1 Axes>"
      ]
     },
     "execution_count": 88,
     "metadata": {},
     "output_type": "execute_result"
    }
   ],
   "source": [
    "figs[3]"
   ]
  },
  {
   "cell_type": "code",
   "execution_count": null,
   "metadata": {},
   "outputs": [],
   "source": []
  },
  {
   "cell_type": "code",
   "execution_count": null,
   "metadata": {},
   "outputs": [],
   "source": []
  },
  {
   "cell_type": "code",
   "execution_count": null,
   "metadata": {},
   "outputs": [],
   "source": []
  }
 ],
 "metadata": {
  "kernelspec": {
   "display_name": "Python 3",
   "language": "python",
   "name": "python3"
  },
  "language_info": {
   "codemirror_mode": {
    "name": "ipython",
    "version": 3
   },
   "file_extension": ".py",
   "mimetype": "text/x-python",
   "name": "python",
   "nbconvert_exporter": "python",
   "pygments_lexer": "ipython3",
   "version": "3.6.5"
  }
 },
 "nbformat": 4,
 "nbformat_minor": 2
}
