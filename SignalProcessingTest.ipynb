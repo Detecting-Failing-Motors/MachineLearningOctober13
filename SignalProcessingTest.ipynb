{
 "cells": [
  {
   "cell_type": "code",
   "execution_count": 1,
   "metadata": {},
   "outputs": [],
   "source": [
    "import os\n",
    "import pandas as pd\n",
    "from datetime import datetime\n",
    "import matplotlib.pyplot as plt\n",
    "import numpy as np "
   ]
  },
  {
   "cell_type": "code",
   "execution_count": 2,
   "metadata": {},
   "outputs": [
    {
     "name": "stdout",
     "output_type": "stream",
     "text": [
      "/Users/tbryan/Desktop/9 2019 Fall/ECEN 403/Programming/Programs_October13\n",
      "2003.10.22.12.06.24\n"
     ]
    }
   ],
   "source": [
    "HomeDirectory = \"/Users/tbryan/Desktop/9 2019 Fall/ECEN 403/Programming/Programs_October13\"\n",
    "os.chdir(HomeDirectory)\n",
    "print(os.getcwd())\n",
    "os.chdir('Data')\n",
    "os.chdir('IMS')\n",
    "directory = sorted(os.listdir('1st_test'))\n",
    "directory.remove(\".DS_Store\")\n",
    "os.chdir('1st_test')\n",
    "print(directory[0])"
   ]
  },
  {
   "cell_type": "code",
   "execution_count": 3,
   "metadata": {},
   "outputs": [
    {
     "name": "stdout",
     "output_type": "stream",
     "text": [
      "     b1x    b1y    b2x    b2y    b3x    b3y    b4x    b4y\n",
      "0 -0.022 -0.039 -0.183 -0.054 -0.105 -0.134 -0.129 -0.142\n",
      "1 -0.105 -0.017 -0.164 -0.183 -0.049  0.029 -0.115 -0.122\n",
      "2 -0.183 -0.098 -0.195 -0.125 -0.005 -0.007 -0.171 -0.071\n",
      "3 -0.178 -0.161 -0.159 -0.178 -0.100 -0.115 -0.112 -0.078\n",
      "4 -0.208 -0.129 -0.261 -0.098 -0.151 -0.205 -0.063 -0.066\n"
     ]
    }
   ],
   "source": [
    "data = pd.read_table(directory[0],header = None)\n",
    "data.columns = ['b1x','b1y','b2x','b2y','b3x','b3y','b4x','b4y']\n",
    "print(data.head())"
   ]
  },
  {
   "cell_type": "code",
   "execution_count": 6,
   "metadata": {},
   "outputs": [
    {
     "name": "stdout",
     "output_type": "stream",
     "text": [
      "[    0     1     2 ... 20477 20478 20479]\n"
     ]
    }
   ],
   "source": [
    "b1x = np.transpose(data.values[:,0])\n",
    "b1y = np.transpose(data.values[:,1])\n",
    "b2x = np.transpose(data.values[:,2])\n",
    "b2y = np.transpose(data.values[:,3])\n",
    "b3x = np.transpose(data.values[:,4])\n",
    "b3y = np.transpose(data.values[:,5])\n",
    "b4x = np.transpose(data.values[:,6])\n",
    "b4y = np.transpose(data.values[:,7])\n",
    "print(data.index.values)"
   ]
  },
  {
   "cell_type": "code",
   "execution_count": null,
   "metadata": {},
   "outputs": [],
   "source": [
    "#Teager-Kaiser Energy Operator\n",
    "#"
   ]
  }
 ],
 "metadata": {
  "kernelspec": {
   "display_name": "Python 3",
   "language": "python",
   "name": "python3"
  },
  "language_info": {
   "codemirror_mode": {
    "name": "ipython",
    "version": 3
   },
   "file_extension": ".py",
   "mimetype": "text/x-python",
   "name": "python",
   "nbconvert_exporter": "python",
   "pygments_lexer": "ipython3",
   "version": "3.6.5"
  }
 },
 "nbformat": 4,
 "nbformat_minor": 2
}
